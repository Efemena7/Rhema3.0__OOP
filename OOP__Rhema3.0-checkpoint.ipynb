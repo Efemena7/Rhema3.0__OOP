{
 "cells": [
  {
   "cell_type": "code",
   "execution_count": null,
   "id": "fa0a26e2",
   "metadata": {},
   "outputs": [],
   "source": []
  },
  {
   "cell_type": "code",
   "execution_count": null,
   "id": "88178256",
   "metadata": {},
   "outputs": [],
   "source": [
    "from random import randint,choices\n",
    "class Account:\n",
    "      def __init__(self,name,dob,phone,address,email,bvn,dep):\n",
    "        self.name=name\n",
    "        self.dob=dob\n",
    "        self.phone=phone\n",
    "        self.address=address\n",
    "        self.email=email\n",
    "        self.bvn=bvn\n",
    "        self.initial_deposit=dep\n",
    "        self.balance=dep\n",
    "        self.acct_type=\"Saving\"\n",
    "        self.acct_number= \"05\"+\"\".join(choices(\"0123456789\",k=8))\n",
    "        \n",
    "    def make_deposit(self,amount):\n",
    "        self.balance=self.balance+amount\n",
    "\n",
    "    def make_withdrawal(self,amount):\n",
    "        if self.balance>2000 and self.balance>amount:\n",
    "            self.balance= self.balance-amount\n",
    "        else:\n",
    "            print(f\"Insufficient Account Balance\")\n",
    "\n",
    "    def upgrade_account_type(self,type_):\n",
    "        if type_ not in [\"Current\",\"Credit\"]:\n",
    "            return \"Upgrade failed\"\n",
    "        self.acct_type=type_\n",
    "    \n",
    "    def change_email(self,email):\n",
    "        self.email=email\n"
   ]
  },
  {
   "cell_type": "code",
   "execution_count": null,
   "id": "859e83bd",
   "metadata": {},
   "outputs": [],
   "source": [
    "charles= Account(\"Investor Charles\",\n",
    "                 \"17/01/2002\",\"081345625\",\n",
    "                 \"Choba\",\"charles@gmail.com\",\"1297541234\",`900E6)\n",
    "ezekiel= Account(\"Prosper Ezekiel\",\n",
    "                 \"17/01/1975\",\"0813456565\",\n",
    "                 \"Choba\",\"prosper@gmail.com\",\"1292241234\",368E6)"
   ]
  },
  {
   "cell_type": "code",
   "execution_count": null,
   "id": "abe30c01",
   "metadata": {},
   "outputs": [],
   "source": []
  },
  {
   "cell_type": "code",
   "execution_count": null,
   "id": "9709e2d6",
   "metadata": {},
   "outputs": [],
   "source": [
    "import math as mth\n",
    "class Vector:\n",
    "    def __init__(self,magnitude):\n",
    "        self.magnitude=magnitude\n",
    "        \n",
    "    def get_magnitude(self,i,j,k):\n",
    "        self.magnitude=round(mth.sqrt(i**2+j**2+k**2),2)"
   ]
  },
  {
   "cell_type": "code",
   "execution_count": null,
   "id": "c0683758",
   "metadata": {},
   "outputs": [],
   "source": [
    "x=Vector(0)\n",
    "y=Vector(0)\n",
    "z=Vector(0)"
   ]
  },
  {
   "cell_type": "code",
   "execution_count": null,
   "id": "ec458529",
   "metadata": {},
   "outputs": [],
   "source": []
  }
 ],
 "metadata": {
  "kernelspec": {
   "display_name": "Python 3 (ipykernel)",
   "language": "python",
   "name": "python3"
  },
  "language_info": {
   "codemirror_mode": {
    "name": "ipython",
    "version": 3
   },
   "file_extension": ".py",
   "mimetype": "text/x-python",
   "name": "python",
   "nbconvert_exporter": "python",
   "pygments_lexer": "ipython3",
   "version": "3.9.12"
  }
 },
 "nbformat": 4,
 "nbformat_minor": 5
}
